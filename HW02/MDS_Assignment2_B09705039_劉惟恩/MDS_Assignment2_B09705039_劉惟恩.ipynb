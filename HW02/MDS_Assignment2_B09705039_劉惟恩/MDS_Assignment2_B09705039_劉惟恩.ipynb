{
 "cells": [
  {
   "cell_type": "markdown",
   "id": "ffa7c03f-ab1e-4a5c-8f9c-22647570bbe4",
   "metadata": {},
   "source": [
    "<h2>Assignment 2"
   ]
  },
  {
   "cell_type": "code",
   "execution_count": 1,
   "id": "09553548-490d-4aef-8b1c-213148f828c6",
   "metadata": {},
   "outputs": [],
   "source": [
    "import numpy as np\n",
    "import pandas as pd\n",
    "import matplotlib.pyplot as plt\n",
    "import statsmodels.api as sm\n",
    "plt.rcParams[\"figure.dpi\"] = 100\n",
    "np.set_printoptions(suppress=True)"
   ]
  },
  {
   "cell_type": "markdown",
   "id": "0f9f6d01-54f9-4e43-b5ad-280812291805",
   "metadata": {},
   "source": [
    "### 1."
   ]
  },
  {
   "cell_type": "markdown",
   "id": "43725212-7d36-424e-ac82-fcc3015a6dfd",
   "metadata": {
    "tags": []
   },
   "source": [
    "### (a)"
   ]
  },
  {
   "cell_type": "markdown",
   "id": "97704e70-4185-4b6c-a6e5-fab968c48a8b",
   "metadata": {},
   "source": [
    "As the unknown parameters increases in a model, the number of observations required for training it grows exponentially.\n",
    "\n",
    "e.g.<br> In the beginning we have a one dimensional (one parameter) classification model with 5 classes, and 10 observations. <br>=> In average there are $10 \\div 5 = 2$ samples in every class.\n",
    "\n",
    "As we increase the dimension (add a new parameter) to create a two dimensional classification model, with the same obseravtion number. <br>=> In average there are $10 \\div 5^2 = 0.4$ samples in every class.<br>=> To maintain the same sampling number we need to increase the observation number to 50.\n",
    "\n",
    "As we increase the dimension (add a new parameter) to create another three dimensional classification model, with the same obseravtion number. <br>=> In average there are $10 \\div 5^3 = 0.08$ samples in every class.<br>=> To maintain the same sampling number we need to increase the observation number to 250."
   ]
  },
  {
   "cell_type": "markdown",
   "id": "662e9949-9236-4e11-9f06-908c829c9be5",
   "metadata": {},
   "source": [
    "### (b)"
   ]
  },
  {
   "cell_type": "markdown",
   "id": "2ec53195-b166-4486-a98f-4d5878dfbfc6",
   "metadata": {},
   "source": [
    "Method 1: Eliminate the dimension (parameter, feature)\n",
    "\n",
    "To avoid curse of dimensionality we can do feature selection before training instead of training the model with all the feature. In feature selection, we can rank the importance of a feature by it's p-value, and calculate the correlation of each pair of features. If a pair of feature is highly correlated, we can reduce the importance ranking of one of them, since highly correlated features won't increase the performace of the model significantly. Then, we can carefully add one dimension a time and evaluate whether adding one feature can increase the performace of model. Stop when the performace decreases.\n",
    "\n",
    "Method 2: Increase the observation number of trainig data (not suggested)\n",
    "\n",
    "To avoid curse of dimensionality we can collect more training data. However, this method is not practical beacause the data needed increases significantly (exponentially) when adding only a few parameters. "
   ]
  },
  {
   "cell_type": "markdown",
   "id": "e0993976-dce4-4824-b0e5-3cfc64d1cb11",
   "metadata": {},
   "source": [
    "****** Notes: dimension = parameter = feature"
   ]
  },
  {
   "cell_type": "markdown",
   "id": "efdcf5dd-2774-47f8-999c-5658f431be35",
   "metadata": {},
   "source": [
    "### (c)"
   ]
  },
  {
   "cell_type": "code",
   "execution_count": 3,
   "id": "981f44bf-c958-4108-bcde-a59805a60815",
   "metadata": {},
   "outputs": [],
   "source": [
    "# Read Data\n",
    "furnace_df = pd.read_csv(\"MDS_Assignment1_furnace.csv\")"
   ]
  },
  {
   "cell_type": "code",
   "execution_count": 4,
   "id": "1f6ef7d5-606a-47e8-803a-ba7c443a7a36",
   "metadata": {},
   "outputs": [],
   "source": [
    "# Multiple Regression\n",
    "y = furnace_df['grade']\n",
    "\n",
    "X_ar = np.array(furnace_df.iloc[:, 0:28])\n",
    "xnames = np.array(furnace_df.columns[0:28])\n",
    "X = pd.DataFrame(X_ar,columns = xnames)\n",
    "X = sm.add_constant(X)\n",
    "\n",
    "olsmod = sm.OLS(y, X)\n",
    "result = olsmod.fit()\n",
    "# print(result.summary())"
   ]
  },
  {
   "cell_type": "code",
   "execution_count": 5,
   "id": "8935d6d3-53e5-4783-b90d-2124e61dde3a",
   "metadata": {},
   "outputs": [],
   "source": [
    "# Rank Variables\n",
    "rank = np.argsort(result.pvalues)\n",
    "pvalues = result.pvalues\n",
    "rankedVar = []\n",
    "for i in rank:\n",
    "    rankedVar.append(pvalues.index[i])\n",
    "rankedVar.remove(\"const\")"
   ]
  },
  {
   "cell_type": "code",
   "execution_count": 6,
   "id": "35721d9e-cfa4-459b-a77c-3b8d90f07172",
   "metadata": {},
   "outputs": [],
   "source": [
    "X_ar = np.array(furnace_df.iloc[:, 0:28])\n",
    "xnames = np.array(furnace_df.columns[0:28])\n",
    "X = pd.DataFrame(X_ar,columns = xnames)\n",
    "\n",
    "adj_rsquare = []\n",
    "arr = []\n",
    "for i in rankedVar:\n",
    "    arr.append(i)\n",
    "    X_new = X[arr]\n",
    "    X_new = sm.add_constant(X_new)\n",
    "\n",
    "    olsmod = sm.OLS(y, X_new)\n",
    "    result = olsmod.fit()\n",
    "    \n",
    "    adj_rsquare.append(result.rsquared_adj)"
   ]
  },
  {
   "cell_type": "code",
   "execution_count": 7,
   "id": "484c60d6-0ddf-435a-9493-532f7e911641",
   "metadata": {},
   "outputs": [
    {
     "data": {
      "image/png": "[encoded data removed]",
      "text/plain": [
       "<Figure size 432x288 with 1 Axes>"
      ]
     },
     "metadata": {
      "needs_background": "light"
     },
     "output_type": "display_data"
    }
   ],
   "source": [
    "# draw plot\n",
    "plt.plot(range(len(adj_rsquare)), adj_rsquare, color='blue')\n",
    "plt.xlabel(\"feature num\")\n",
    "plt.ylabel(\"adjusted_R2\")\n",
    "plt.title(\"feature num v.s. adjusted_R2\")\n",
    "plt.show()"
   ]
  },
  {
   "cell_type": "markdown",
   "id": "373a6a4c-1fb5-4b1e-9b46-3989e88937a4",
   "metadata": {},
   "source": [
    "### 2."
   ]
  },
  {
   "cell_type": "markdown",
   "id": "52f0a699-889e-4d35-9835-6a26eb235820",
   "metadata": {},
   "source": [
    "### (a)"
   ]
  },
  {
   "cell_type": "markdown",
   "id": "cfa23c1a-3bae-4d3c-abf6-46d5da68212c",
   "metadata": {},
   "source": [
    "We will use the adult dataset found in Kaggle to demo data quality check. Source: https://www.kaggle.com/datasets/wenruliu/adult-income-dataset\n",
    "\n",
    "The goal is to classify whether an individual’s annual income is greater than 50K."
   ]
  },
  {
   "cell_type": "code",
   "execution_count": 8,
   "id": "2f5d4ba7-80d6-4818-9e85-7e8fe26a9090",
   "metadata": {},
   "outputs": [
    {
     "data": {
      "text/html": [
       "<div>\n",
       "<style scoped>\n",
       "    .dataframe tbody tr th:only-of-type {\n",
       "        vertical-align: middle;\n",
       "    }\n",
       "\n",
       "    .dataframe tbody tr th {\n",
       "        vertical-align: top;\n",
       "    }\n",
       "\n",
       "    .dataframe thead th {\n",
       "        text-align: right;\n",
       "    }\n",
       "</style>\n",
       "<table border=\"1\" class=\"dataframe\">\n",
       "  <thead>\n",
       "    <tr style=\"text-align: right;\">\n",
       "      <th></th>\n",
       "      <th>age</th>\n",
       "      <th>workclass</th>\n",
       "      <th>fnlwgt</th>\n",
       "      <th>education</th>\n",
       "      <th>educational-num</th>\n",
       "      <th>marital-status</th>\n",
       "      <th>occupation</th>\n",
       "      <th>relationship</th>\n",
       "      <th>race</th>\n",
       "      <th>gender</th>\n",
       "      <th>capital-gain</th>\n",
       "      <th>capital-loss</th>\n",
       "      <th>hours-per-week</th>\n",
       "      <th>native-country</th>\n",
       "      <th>income</th>\n",
       "    </tr>\n",
       "  </thead>\n",
       "  <tbody>\n",
       "    <tr>\n",
       "      <th>0</th>\n",
       "      <td>25</td>\n",
       "      <td>Private</td>\n",
       "      <td>226802</td>\n",
       "      <td>11th</td>\n",
       "      <td>7</td>\n",
       "      <td>Never-married</td>\n",
       "      <td>Machine-op-inspct</td>\n",
       "      <td>Own-child</td>\n",
       "      <td>Black</td>\n",
       "      <td>Male</td>\n",
       "      <td>0</td>\n",
       "      <td>0</td>\n",
       "      <td>40</td>\n",
       "      <td>United-States</td>\n",
       "      <td>&lt;=50K</td>\n",
       "    </tr>\n",
       "    <tr>\n",
       "      <th>1</th>\n",
       "      <td>38</td>\n",
       "      <td>Private</td>\n",
       "      <td>89814</td>\n",
       "      <td>HS-grad</td>\n",
       "      <td>9</td>\n",
       "      <td>Married-civ-spouse</td>\n",
       "      <td>Farming-fishing</td>\n",
       "      <td>Husband</td>\n",
       "      <td>White</td>\n",
       "      <td>Male</td>\n",
       "      <td>0</td>\n",
       "      <td>0</td>\n",
       "      <td>50</td>\n",
       "      <td>United-States</td>\n",
       "      <td>&lt;=50K</td>\n",
       "    </tr>\n",
       "    <tr>\n",
       "      <th>2</th>\n",
       "      <td>28</td>\n",
       "      <td>Local-gov</td>\n",
       "      <td>336951</td>\n",
       "      <td>Assoc-acdm</td>\n",
       "      <td>12</td>\n",
       "      <td>Married-civ-spouse</td>\n",
       "      <td>Protective-serv</td>\n",
       "      <td>Husband</td>\n",
       "      <td>White</td>\n",
       "      <td>Male</td>\n",
       "      <td>0</td>\n",
       "      <td>0</td>\n",
       "      <td>40</td>\n",
       "      <td>United-States</td>\n",
       "      <td>&gt;50K</td>\n",
       "    </tr>\n",
       "    <tr>\n",
       "      <th>3</th>\n",
       "      <td>44</td>\n",
       "      <td>Private</td>\n",
       "      <td>160323</td>\n",
       "      <td>Some-college</td>\n",
       "      <td>10</td>\n",
       "      <td>Married-civ-spouse</td>\n",
       "      <td>Machine-op-inspct</td>\n",
       "      <td>Husband</td>\n",
       "      <td>Black</td>\n",
       "      <td>Male</td>\n",
       "      <td>7688</td>\n",
       "      <td>0</td>\n",
       "      <td>40</td>\n",
       "      <td>United-States</td>\n",
       "      <td>&gt;50K</td>\n",
       "    </tr>\n",
       "    <tr>\n",
       "      <th>4</th>\n",
       "      <td>18</td>\n",
       "      <td>?</td>\n",
       "      <td>103497</td>\n",
       "      <td>Some-college</td>\n",
       "      <td>10</td>\n",
       "      <td>Never-married</td>\n",
       "      <td>?</td>\n",
       "      <td>Own-child</td>\n",
       "      <td>White</td>\n",
       "      <td>Female</td>\n",
       "      <td>0</td>\n",
       "      <td>0</td>\n",
       "      <td>30</td>\n",
       "      <td>United-States</td>\n",
       "      <td>&lt;=50K</td>\n",
       "    </tr>\n",
       "    <tr>\n",
       "      <th>...</th>\n",
       "      <td>...</td>\n",
       "      <td>...</td>\n",
       "      <td>...</td>\n",
       "      <td>...</td>\n",
       "      <td>...</td>\n",
       "      <td>...</td>\n",
       "      <td>...</td>\n",
       "      <td>...</td>\n",
       "      <td>...</td>\n",
       "      <td>...</td>\n",
       "      <td>...</td>\n",
       "      <td>...</td>\n",
       "      <td>...</td>\n",
       "      <td>...</td>\n",
       "      <td>...</td>\n",
       "    </tr>\n",
       "    <tr>\n",
       "      <th>48837</th>\n",
       "      <td>27</td>\n",
       "      <td>Private</td>\n",
       "      <td>257302</td>\n",
       "      <td>Assoc-acdm</td>\n",
       "      <td>12</td>\n",
       "      <td>Married-civ-spouse</td>\n",
       "      <td>Tech-support</td>\n",
       "      <td>Wife</td>\n",
       "      <td>White</td>\n",
       "      <td>Female</td>\n",
       "      <td>0</td>\n",
       "      <td>0</td>\n",
       "      <td>38</td>\n",
       "      <td>United-States</td>\n",
       "      <td>&lt;=50K</td>\n",
       "    </tr>\n",
       "    <tr>\n",
       "      <th>48838</th>\n",
       "      <td>40</td>\n",
       "      <td>Private</td>\n",
       "      <td>154374</td>\n",
       "      <td>HS-grad</td>\n",
       "      <td>9</td>\n",
       "      <td>Married-civ-spouse</td>\n",
       "      <td>Machine-op-inspct</td>\n",
       "      <td>Husband</td>\n",
       "      <td>White</td>\n",
       "      <td>Male</td>\n",
       "      <td>0</td>\n",
       "      <td>0</td>\n",
       "      <td>40</td>\n",
       "      <td>United-States</td>\n",
       "      <td>&gt;50K</td>\n",
       "    </tr>\n",
       "    <tr>\n",
       "      <th>48839</th>\n",
       "      <td>58</td>\n",
       "      <td>Private</td>\n",
       "      <td>151910</td>\n",
       "      <td>HS-grad</td>\n",
       "      <td>9</td>\n",
       "      <td>Widowed</td>\n",
       "      <td>Adm-clerical</td>\n",
       "      <td>Unmarried</td>\n",
       "      <td>White</td>\n",
       "      <td>Female</td>\n",
       "      <td>0</td>\n",
       "      <td>0</td>\n",
       "      <td>40</td>\n",
       "      <td>United-States</td>\n",
       "      <td>&lt;=50K</td>\n",
       "    </tr>\n",
       "    <tr>\n",
       "      <th>48840</th>\n",
       "      <td>22</td>\n",
       "      <td>Private</td>\n",
       "      <td>201490</td>\n",
       "      <td>HS-grad</td>\n",
       "      <td>9</td>\n",
       "      <td>Never-married</td>\n",
       "      <td>Adm-clerical</td>\n",
       "      <td>Own-child</td>\n",
       "      <td>White</td>\n",
       "      <td>Male</td>\n",
       "      <td>0</td>\n",
       "      <td>0</td>\n",
       "      <td>20</td>\n",
       "      <td>United-States</td>\n",
       "      <td>&lt;=50K</td>\n",
       "    </tr>\n",
       "    <tr>\n",
       "      <th>48841</th>\n",
       "      <td>52</td>\n",
       "      <td>Self-emp-inc</td>\n",
       "      <td>287927</td>\n",
       "      <td>HS-grad</td>\n",
       "      <td>9</td>\n",
       "      <td>Married-civ-spouse</td>\n",
       "      <td>Exec-managerial</td>\n",
       "      <td>Wife</td>\n",
       "      <td>White</td>\n",
       "      <td>Female</td>\n",
       "      <td>15024</td>\n",
       "      <td>0</td>\n",
       "      <td>40</td>\n",
       "      <td>United-States</td>\n",
       "      <td>&gt;50K</td>\n",
       "    </tr>\n",
       "  </tbody>\n",
       "</table>\n",
       "<p>48842 rows × 15 columns</p>\n",
       "</div>"
      ],
      "text/plain": [
       "       age     workclass  fnlwgt     education  educational-num  \\\n",
       "0       25       Private  226802          11th                7   \n",
       "1       38       Private   89814       HS-grad                9   \n",
       "2       28     Local-gov  336951    Assoc-acdm               12   \n",
       "3       44       Private  160323  Some-college               10   \n",
       "4       18             ?  103497  Some-college               10   \n",
       "...    ...           ...     ...           ...              ...   \n",
       "48837   27       Private  257302    Assoc-acdm               12   \n",
       "48838   40       Private  154374       HS-grad                9   \n",
       "48839   58       Private  151910       HS-grad                9   \n",
       "48840   22       Private  201490       HS-grad                9   \n",
       "48841   52  Self-emp-inc  287927       HS-grad                9   \n",
       "\n",
       "           marital-status         occupation relationship   race  gender  \\\n",
       "0           Never-married  Machine-op-inspct    Own-child  Black    Male   \n",
       "1      Married-civ-spouse    Farming-fishing      Husband  White    Male   \n",
       "2      Married-civ-spouse    Protective-serv      Husband  White    Male   \n",
       "3      Married-civ-spouse  Machine-op-inspct      Husband  Black    Male   \n",
       "4           Never-married                  ?    Own-child  White  Female   \n",
       "...                   ...                ...          ...    ...     ...   \n",
       "48837  Married-civ-spouse       Tech-support         Wife  White  Female   \n",
       "48838  Married-civ-spouse  Machine-op-inspct      Husband  White    Male   \n",
       "48839             Widowed       Adm-clerical    Unmarried  White  Female   \n",
       "48840       Never-married       Adm-clerical    Own-child  White    Male   \n",
       "48841  Married-civ-spouse    Exec-managerial         Wife  White  Female   \n",
       "\n",
       "       capital-gain  capital-loss  hours-per-week native-country income  \n",
       "0                 0             0              40  United-States  <=50K  \n",
       "1                 0             0              50  United-States  <=50K  \n",
       "2                 0             0              40  United-States   >50K  \n",
       "3              7688             0              40  United-States   >50K  \n",
       "4                 0             0              30  United-States  <=50K  \n",
       "...             ...           ...             ...            ...    ...  \n",
       "48837             0             0              38  United-States  <=50K  \n",
       "48838             0             0              40  United-States   >50K  \n",
       "48839             0             0              40  United-States  <=50K  \n",
       "48840             0             0              20  United-States  <=50K  \n",
       "48841         15024             0              40  United-States   >50K  \n",
       "\n",
       "[48842 rows x 15 columns]"
      ]
     },
     "execution_count": 8,
     "metadata": {},
     "output_type": "execute_result"
    }
   ],
   "source": [
    "# read data\n",
    "data = pd.read_csv(\"adult.csv\")\n",
    "data"
   ]
  },
  {
   "cell_type": "markdown",
   "id": "82d975c1-60a4-4cb8-957c-53757e038c5d",
   "metadata": {},
   "source": [
    "Step 1: The data is collected from reliable source, and the website says \"databases may change over time\" so it is the newest data.\n",
    "\n",
    "Step 2: The columns can be interpret clearly and is reasonable to consider these features (e.g. workclass can highly influence income in common thoughts)."
   ]
  },
  {
   "cell_type": "markdown",
   "id": "4a2c5de5-1b49-4a8f-b4a3-fe018960907c",
   "metadata": {},
   "source": [
    "Step 3: Check if there are lots of empty values"
   ]
  },
  {
   "cell_type": "code",
   "execution_count": 9,
   "id": "3fce262d-0d2c-4545-9964-6fc7b456a19e",
   "metadata": {},
   "outputs": [
    {
     "name": "stdout",
     "output_type": "stream",
     "text": [
      "<class 'pandas.core.frame.DataFrame'>\n",
      "RangeIndex: 48842 entries, 0 to 48841\n",
      "Data columns (total 15 columns):\n",
      " #   Column           Non-Null Count  Dtype \n",
      "---  ------           --------------  ----- \n",
      " 0   age              48842 non-null  int64 \n",
      " 1   workclass        48842 non-null  object\n",
      " 2   fnlwgt           48842 non-null  int64 \n",
      " 3   education        48842 non-null  object\n",
      " 4   educational-num  48842 non-null  int64 \n",
      " 5   marital-status   48842 non-null  object\n",
      " 6   occupation       48842 non-null  object\n",
      " 7   relationship     48842 non-null  object\n",
      " 8   race             48842 non-null  object\n",
      " 9   gender           48842 non-null  object\n",
      " 10  capital-gain     48842 non-null  int64 \n",
      " 11  capital-loss     48842 non-null  int64 \n",
      " 12  hours-per-week   48842 non-null  int64 \n",
      " 13  native-country   48842 non-null  object\n",
      " 14  income           48842 non-null  object\n",
      "dtypes: int64(6), object(9)\n",
      "memory usage: 5.6+ MB\n",
      "\n",
      "Missing value counts in data colums:\n",
      "age 0\n",
      "workclass 2799\n",
      "fnlwgt 0\n",
      "education 0\n",
      "educational-num 0\n",
      "marital-status 0\n",
      "occupation 2809\n",
      "relationship 0\n",
      "race 0\n",
      "gender 0\n",
      "capital-gain 0\n",
      "capital-loss 0\n",
      "hours-per-week 0\n",
      "native-country 857\n",
      "income 0\n"
     ]
    }
   ],
   "source": [
    "# check if the values are consisted among columns\n",
    "data.info()\n",
    "# count how many ? values\n",
    "data = data.replace('?', np.NaN)\n",
    "print(\"\\nMissing value counts in data colums:\")\n",
    "for i in data.columns:\n",
    "    print(i, data[i].isna().sum())"
   ]
  },
  {
   "cell_type": "markdown",
   "id": "6c034067-24f8-44d1-8ae0-12dc11d2cfe6",
   "metadata": {},
   "source": [
    "Step 3: The type of columns are consistent and we can find the type of values. Also, there are 48842 observations which is sufficient enough to fit a model. Missing value counts are way smaller than 48842 observations, which can be imputated appropriately."
   ]
  },
  {
   "cell_type": "markdown",
   "id": "55f8589a-b083-4d4c-95fd-89655a5132b6",
   "metadata": {},
   "source": [
    "Step 4:"
   ]
  },
  {
   "cell_type": "code",
   "execution_count": 10,
   "id": "aa430278-d9bf-482e-b559-3918873b06d5",
   "metadata": {},
   "outputs": [
    {
     "name": "stdout",
     "output_type": "stream",
     "text": [
      "                            OLS Regression Results                            \n",
      "==============================================================================\n",
      "Dep. Variable:            income_>50K   R-squared:                       0.365\n",
      "Model:                            OLS   Adj. R-squared:                  0.364\n",
      "Method:                 Least Squares   F-statistic:                     291.6\n",
      "Date:                Fri, 28 Oct 2022   Prob (F-statistic):               0.00\n",
      "Time:                        15:31:29   Log-Likelihood:                -16617.\n",
      "No. Observations:               48842   AIC:                         3.343e+04\n",
      "Df Residuals:                   48745   BIC:                         3.428e+04\n",
      "Df Model:                          96                                         \n",
      "Covariance Type:            nonrobust                                         \n",
      "=============================================================================================================\n",
      "                                                coef    std err          t      P>|t|      [0.025      0.975]\n",
      "-------------------------------------------------------------------------------------------------------------\n",
      "const                                        -0.0967      0.030     -3.180      0.001      -0.156      -0.037\n",
      "age                                           0.0023      0.000     15.342      0.000       0.002       0.003\n",
      "fnlwgt                                     7.929e-08    1.5e-08      5.283      0.000    4.99e-08    1.09e-07\n",
      "educational-num                               0.0272      0.001     21.174      0.000       0.025       0.030\n",
      "capital-gain                               7.734e-06   2.13e-07     36.306      0.000    7.32e-06    8.15e-06\n",
      "capital-loss                               9.015e-05   3.86e-06     23.330      0.000    8.26e-05    9.77e-05\n",
      "hours-per-week                                0.0030      0.000     21.637      0.000       0.003       0.003\n",
      "workclass_Federal-gov                         0.0763      0.018      4.241      0.000       0.041       0.112\n",
      "workclass_Local-gov                          -0.0170      0.017     -0.997      0.319      -0.050       0.016\n",
      "workclass_Never-worked                       -0.0089      0.096     -0.093      0.926      -0.196       0.178\n",
      "workclass_Private                            -0.0068      0.016     -0.418      0.676      -0.039       0.025\n",
      "workclass_Self-emp-inc                        0.0520      0.018      2.917      0.004       0.017       0.087\n",
      "workclass_Self-emp-not-inc                   -0.0718      0.017     -4.251      0.000      -0.105      -0.039\n",
      "workclass_State-gov                          -0.0393      0.017     -2.245      0.025      -0.074      -0.005\n",
      "workclass_Without-pay                        -0.0813      0.067     -1.214      0.225      -0.213       0.050\n",
      "education_10th                               -0.0370      0.011     -3.464      0.001      -0.058      -0.016\n",
      "education_11th                               -0.0328      0.009     -3.516      0.000      -0.051      -0.015\n",
      "education_12th                               -0.0404      0.013     -3.042      0.002      -0.066      -0.014\n",
      "education_1st-4th                             0.0199      0.021      0.947      0.344      -0.021       0.061\n",
      "education_5th-6th                             0.0065      0.016      0.398      0.691      -0.026       0.039\n",
      "education_7th-8th                            -0.0515      0.013     -3.937      0.000      -0.077      -0.026\n",
      "education_9th                                -0.0421      0.013     -3.124      0.002      -0.069      -0.016\n",
      "education_Assoc-acdm                         -0.0788      0.008     -9.422      0.000      -0.095      -0.062\n",
      "education_Assoc-voc                          -0.0633      0.008     -8.415      0.000      -0.078      -0.049\n",
      "education_Bachelors                          -0.0119      0.005     -2.293      0.022      -0.022      -0.002\n",
      "education_Doctorate                           0.1083      0.013      8.510      0.000       0.083       0.133\n",
      "education_HS-grad                            -0.0742      0.005    -16.448      0.000      -0.083      -0.065\n",
      "education_Masters                             0.0522      0.007      7.003      0.000       0.038       0.067\n",
      "education_Preschool                           0.0950      0.031      3.020      0.003       0.033       0.157\n",
      "education_Prof-school                         0.1063      0.011      9.342      0.000       0.084       0.129\n",
      "education_Some-college                       -0.0528      0.004    -12.001      0.000      -0.061      -0.044\n",
      "marital-status_Divorced                      -0.0490      0.011     -4.370      0.000      -0.071      -0.027\n",
      "marital-status_Married-AF-spouse              0.0234      0.050      0.465      0.642      -0.075       0.122\n",
      "marital-status_Married-civ-spouse             0.0705      0.016      4.387      0.000       0.039       0.102\n",
      "marital-status_Married-spouse-absent         -0.0153      0.016     -0.978      0.328      -0.046       0.015\n",
      "marital-status_Never-married                 -0.0586      0.011     -5.418      0.000      -0.080      -0.037\n",
      "marital-status_Separated                     -0.0333      0.013     -2.572      0.010      -0.059      -0.008\n",
      "marital-status_Widowed                       -0.0344      0.013     -2.578      0.010      -0.061      -0.008\n",
      "occupation_Adm-clerical                      -0.0108      0.008     -1.319      0.187      -0.027       0.005\n",
      "occupation_Armed-Forces                      -0.0044      0.082     -0.053      0.958      -0.166       0.157\n",
      "occupation_Craft-repair                      -0.0229      0.008     -2.830      0.005      -0.039      -0.007\n",
      "occupation_Exec-managerial                    0.1090      0.008     13.350      0.000       0.093       0.125\n",
      "occupation_Farming-fishing                   -0.1089      0.011     -9.880      0.000      -0.131      -0.087\n",
      "occupation_Handlers-cleaners                 -0.0611      0.010     -6.175      0.000      -0.080      -0.042\n",
      "occupation_Machine-op-inspct                 -0.0538      0.009     -5.943      0.000      -0.072      -0.036\n",
      "occupation_Other-service                     -0.0318      0.008     -3.828      0.000      -0.048      -0.016\n",
      "occupation_Priv-house-serv                    0.0005      0.022      0.024      0.981      -0.042       0.043\n",
      "occupation_Prof-specialty                     0.0153      0.008      1.931      0.053      -0.000       0.031\n",
      "occupation_Protective-serv                    0.0427      0.013      3.390      0.001       0.018       0.067\n",
      "occupation_Sales                              0.0291      0.008      3.540      0.000       0.013       0.045\n",
      "occupation_Tech-support                       0.0483      0.011      4.436      0.000       0.027       0.070\n",
      "occupation_Transport-moving                  -0.0478      0.010     -4.978      0.000      -0.067      -0.029\n",
      "relationship_Husband                          0.0674      0.014      4.938      0.000       0.041       0.094\n",
      "relationship_Not-in-family                   -0.0967      0.009    -10.817      0.000      -0.114      -0.079\n",
      "relationship_Other-relative                  -0.0736      0.010     -7.319      0.000      -0.093      -0.054\n",
      "relationship_Own-child                       -0.0733      0.009     -8.157      0.000      -0.091      -0.056\n",
      "relationship_Unmarried                       -0.0848      0.010     -8.774      0.000      -0.104      -0.066\n",
      "relationship_Wife                             0.1643      0.015     11.247      0.000       0.136       0.193\n",
      "race_Amer-Indian-Eskimo                      -0.0442      0.015     -2.987      0.003      -0.073      -0.015\n",
      "race_Asian-Pac-Islander                      -0.0049      0.013     -0.377      0.707      -0.030       0.021\n",
      "race_Black                                   -0.0264      0.009     -2.941      0.003      -0.044      -0.009\n",
      "race_Other                                   -0.0184      0.016     -1.160      0.246      -0.049       0.013\n",
      "race_White                                   -0.0028      0.008     -0.352      0.725      -0.019       0.013\n",
      "gender_Female                                -0.0735      0.015     -4.782      0.000      -0.104      -0.043\n",
      "gender_Male                                  -0.0232      0.015     -1.509      0.131      -0.053       0.007\n",
      "native-country_Cambodia                       0.0202      0.097      0.209      0.834      -0.169       0.209\n",
      "native-country_Canada                        -0.0360      0.075     -0.478      0.633      -0.184       0.112\n",
      "native-country_China                         -0.1683      0.079     -2.143      0.032      -0.322      -0.014\n",
      "native-country_Columbia                      -0.1944      0.080     -2.428      0.015      -0.351      -0.037\n",
      "native-country_Cuba                          -0.1013      0.077     -1.320      0.187      -0.252       0.049\n",
      "native-country_Dominican-Republic            -0.1343      0.079     -1.707      0.088      -0.289       0.020\n",
      "native-country_Ecuador                       -0.1166      0.087     -1.334      0.182      -0.288       0.055\n",
      "native-country_El-Salvador                   -0.0858      0.076     -1.126      0.260      -0.235       0.064\n",
      "native-country_England                       -0.0151      0.077     -0.195      0.845      -0.166       0.136\n",
      "native-country_France                         0.0049      0.090      0.054      0.957      -0.171       0.181\n",
      "native-country_Germany                       -0.0700      0.075     -0.934      0.350      -0.217       0.077\n",
      "native-country_Greece                        -0.0872      0.086     -1.013      0.311      -0.256       0.082\n",
      "native-country_Guatemala                     -0.0789      0.080     -0.988      0.323      -0.236       0.078\n",
      "native-country_Haiti                         -0.0800      0.081     -0.983      0.325      -0.239       0.079\n",
      "native-country_Holand-Netherlands            -0.2461      0.348     -0.707      0.480      -0.928       0.436\n",
      "native-country_Honduras                      -0.0856      0.104     -0.822      0.411      -0.290       0.119\n",
      "native-country_Hong                          -0.1573      0.095     -1.655      0.098      -0.344       0.029\n",
      "native-country_Hungary                       -0.0577      0.106     -0.547      0.585      -0.265       0.149\n",
      "native-country_India                         -0.1068      0.077     -1.385      0.166      -0.258       0.044\n",
      "native-country_Iran                          -0.0894      0.084     -1.067      0.286      -0.254       0.075\n",
      "native-country_Ireland                        0.0377      0.090      0.417      0.677      -0.140       0.215\n",
      "native-country_Italy                         -0.0337      0.078     -0.430      0.667      -0.187       0.120\n",
      "native-country_Jamaica                       -0.0700      0.078     -0.891      0.373      -0.224       0.084\n",
      "native-country_Japan                         -0.0679      0.080     -0.851      0.395      -0.224       0.088\n",
      "native-country_Laos                          -0.2110      0.101     -2.083      0.037      -0.410      -0.012\n",
      "native-country_Mexico                        -0.1311      0.072     -1.820      0.069      -0.272       0.010\n",
      "native-country_Nicaragua                     -0.1563      0.086     -1.815      0.070      -0.325       0.013\n",
      "native-country_Outlying-US(Guam-USVI-etc)    -0.1765      0.100     -1.757      0.079      -0.373       0.020\n",
      "native-country_Peru                          -0.1597      0.087     -1.836      0.066      -0.330       0.011\n",
      "native-country_Philippines                   -0.0671      0.075     -0.898      0.369      -0.214       0.079\n",
      "native-country_Poland                        -0.1213      0.080     -1.519      0.129      -0.278       0.035\n",
      "native-country_Portugal                      -0.0679      0.082     -0.825      0.410      -0.229       0.094\n",
      "native-country_Puerto-Rico                   -0.1126      0.075     -1.494      0.135      -0.260       0.035\n",
      "native-country_Scotland                      -0.2021      0.103     -1.967      0.049      -0.404      -0.001\n",
      "native-country_South                         -0.1911      0.079     -2.425      0.015      -0.346      -0.037\n",
      "native-country_Taiwan                        -0.1264      0.084     -1.511      0.131      -0.290       0.038\n",
      "native-country_Thailand                      -0.1701      0.095     -1.790      0.073      -0.356       0.016\n",
      "native-country_Trinadad&Tobago               -0.1944      0.097     -2.010      0.044      -0.384      -0.005\n",
      "native-country_United-States                 -0.0736      0.071     -1.035      0.300      -0.213       0.066\n",
      "native-country_Vietnam                       -0.1652      0.081     -2.040      0.041      -0.324      -0.006\n",
      "==============================================================================\n",
      "Omnibus:                     2305.179   Durbin-Watson:                   2.002\n",
      "Prob(Omnibus):                  0.000   Jarque-Bera (JB):             2632.979\n",
      "Skew:                           0.565   Prob(JB):                         0.00\n",
      "Kurtosis:                       2.871   Cond. No.                     3.12e+16\n",
      "==============================================================================\n",
      "\n",
      "Notes:\n",
      "[1] Standard Errors assume that the covariance matrix of the errors is correctly specified.\n",
      "[2] The smallest eigenvalue is 2.37e-18. This might indicate that there are\n",
      "strong multicollinearity problems or that the design matrix is singular.\n"
     ]
    }
   ],
   "source": [
    "# Do simple linear regression\n",
    "data['workclass'].fillna(data['workclass'].mode()[0], inplace=True)\n",
    "data['occupation'].fillna(data['occupation'].mode()[0], inplace=True)\n",
    "data['native-country'].fillna(data['native-country'].mode()[0], inplace=True)\n",
    "data = pd.get_dummies(data)\n",
    "\n",
    "# Linear Regression\n",
    "y = data['income_>50K']\n",
    "X_ar = np.array(data.iloc[:, 0:104])\n",
    "xnames = np.array(data.columns[0:104])\n",
    "X = pd.DataFrame(X_ar,columns = xnames)\n",
    "X = sm.add_constant(X)\n",
    "\n",
    "log = sm.OLS(y, X)\n",
    "result = log.fit()\n",
    "print(result.summary())"
   ]
  },
  {
   "cell_type": "markdown",
   "id": "2386cd24-0424-484f-a85f-8924f55c1eb7",
   "metadata": {},
   "source": [
    "Step 5: Check the distribution of the data."
   ]
  },
  {
   "cell_type": "code",
   "execution_count": 11,
   "id": "3fc9925b-2c38-42bd-b16c-16cf9a584970",
   "metadata": {},
   "outputs": [],
   "source": [
    "import statsmodels.stats.outliers_influence as sso\n",
    "import scipy.stats as stats\n",
    "import statistics\n",
    "import math\n",
    "\n",
    "def runsTest(l, l_median): \n",
    "    runs, n1, n2 = 1, 0, 0\n",
    "    if(l[0]) >= l_median:\n",
    "        n1 += 1   \n",
    "    else:\n",
    "        n2 += 1   \n",
    "    for i in range(1, len(l)): \n",
    "        if (l[i] >= l_median and l[i-1] < l_median) or (l[i] < l_median and l[i-1] >= l_median):\n",
    "            runs += 1  \n",
    "        if(l[i]) >= l_median: \n",
    "            n1 += 1   \n",
    "        else: \n",
    "            n2 += 1   \n",
    "    runs_exp = ((2*n1*n2)/(n1+n2)) + 1\n",
    "    stan_dev = math.sqrt((2*n1*n2*(2*n1*n2-n1-n2))/(((n1+n2)**2)*(n1+n2-1))) \n",
    "    z = (runs-runs_exp)/stan_dev\n",
    "    pval_z = stats.norm.sf(abs(z)) * 2\n",
    "    print('runs = ', runs)\n",
    "    print('n1 = ', n1)\n",
    "    print('n2 = ', n2)\n",
    "    print('runs_exp = ', runs_exp)\n",
    "    print('stan_dev = ', stan_dev)\n",
    "    print('z = ', z)\n",
    "    print('pval_z = ', pval_z)\n",
    "    return pval_z"
   ]
  },
  {
   "cell_type": "code",
   "execution_count": 12,
   "id": "726a5b3d-914a-4641-9eb6-a1041b571114",
   "metadata": {},
   "outputs": [],
   "source": [
    "# residual analysis\n",
    "st, data, ss2 = sso.summary_table(result, alpha=0.01)\n",
    "#Predicted value\n",
    "y_pre = data[:, 2]\n",
    "#Studentized Residual\n",
    "SD = data[:, 10]"
   ]
  },
  {
   "cell_type": "markdown",
   "id": "edfe9489-a62c-4d36-91e9-ce875b1ced38",
   "metadata": {},
   "source": [
    "Normality test:<br>\n",
    "H0 : Normal distributed<br>\n",
    "H1 : Not normal distributed"
   ]
  },
  {
   "cell_type": "code",
   "execution_count": 13,
   "id": "83ac85f3-3607-45ad-a860-3217bc4295b1",
   "metadata": {},
   "outputs": [
    {
     "name": "stdout",
     "output_type": "stream",
     "text": [
      "Shapiro Test: Statistics=0.963424, p=0.000000\n"
     ]
    }
   ],
   "source": [
    "# Normality test\n",
    "stat, p = stats.shapiro(SD)\n",
    "print('Shapiro Test: Statistics=%f, p=%f' % (stat, p))"
   ]
  },
  {
   "cell_type": "code",
   "execution_count": 14,
   "id": "7bda94ff-8ea8-426b-ac70-fea2d20415de",
   "metadata": {},
   "outputs": [
    {
     "data": {
      "image/png": "[encoded data removed]",
      "text/plain": [
       "<Figure size 432x288 with 1 Axes>"
      ]
     },
     "metadata": {
      "needs_background": "light"
     },
     "output_type": "display_data"
    }
   ],
   "source": [
    "# Distribution histogram\n",
    "mu = np.mean(SD)\n",
    "sigma = np.std(SD)\n",
    "fig, ax = plt.subplots()\n",
    "counts, bins, patches = plt.hist(SD, 6, density=False, facecolor='g', alpha=0.75)\n",
    "plt.xlabel('Standardized Residuals')\n",
    "plt.ylabel('Frequency')\n",
    "plt.title('Histogram of Standardized Residuals')\n",
    "plt.grid(True)\n",
    "bin_centers = [np.mean(k) for k in zip(bins[:-1], bins[1:])]\n",
    "plt.show()"
   ]
  },
  {
   "cell_type": "code",
   "execution_count": 15,
   "id": "dc68ea79-3084-4310-b5c4-75de700be19d",
   "metadata": {},
   "outputs": [
    {
     "data": {
      "image/png": "[encoded data removed]",
      "text/plain": [
       "<Figure size 432x288 with 1 Axes>"
      ]
     },
     "metadata": {
      "needs_background": "light"
     },
     "output_type": "display_data"
    }
   ],
   "source": [
    "# qqplot\n",
    "sm.qqplot(SD, line='45')\n",
    "plt.show()"
   ]
  },
  {
   "cell_type": "markdown",
   "id": "6a1916f4-44d0-4641-a0c6-dfb0db1fe7d9",
   "metadata": {},
   "source": [
    "Since p-value < alpha = 0.01, we reject H0 at significance level at alpha = 0.01.<br>\n",
    "Also, the qqplot and the histogram implies that it is not normally distributed.<br>"
   ]
  },
  {
   "cell_type": "markdown",
   "id": "80c0205b-ddd0-4ba1-9b99-a099b24e8fd7",
   "metadata": {},
   "source": [
    "Independence test:<br>\n",
    "H0 : Randomness exists.<br>\n",
    "H1 : Randomness does not exist."
   ]
  },
  {
   "cell_type": "code",
   "execution_count": 16,
   "id": "31b8864e-972e-4693-a958-f223d7defa89",
   "metadata": {},
   "outputs": [
    {
     "data": {
      "image/png": "[encoded data removed]",
      "text/plain": [
       "<Figure size 432x288 with 1 Axes>"
      ]
     },
     "metadata": {
      "needs_background": "light"
     },
     "output_type": "display_data"
    },
    {
     "name": "stdout",
     "output_type": "stream",
     "text": [
      "runs =  24479\n",
      "n1 =  24421\n",
      "n2 =  24421\n",
      "runs_exp =  24422.0\n",
      "stan_dev =  110.49999997683868\n",
      "z =  0.5158371041805201\n",
      "pval_z =  0.6059681854373298\n",
      "p_value for Z-statistic=  0.6059681854373298\n"
     ]
    }
   ],
   "source": [
    "# Independence test\n",
    "Id = data[:, 0]\n",
    "plt.plot(Id, SD, 'o', color = 'gray')\n",
    "plt.axhline(y=0, color = 'blue')\n",
    "plt.axhline(y=2, color = 'red')\n",
    "plt.axhline(y=-2, color = 'red')\n",
    "plt.title('Standardized Residual Plot')\n",
    "plt.xlabel('Observation No.')\n",
    "plt.ylabel('Standardized Residual')\n",
    "plt.show()\n",
    "\n",
    "SD_median = statistics.median(SD)\n",
    "Z_pval = runsTest(SD, SD_median) \n",
    "print('p_value for Z-statistic= ', Z_pval)"
   ]
  },
  {
   "cell_type": "markdown",
   "id": "00dcca86-6ca3-4389-a12b-55cb071b1403",
   "metadata": {},
   "source": [
    "Since n1>20 and n2>20, we can apply run test with normal distribution.<br>\n",
    "Since p-value > alpha = 0.01, we can not reject H0 at significance level at alpha = 0.01.<br>\n",
    "There is no evidence to infer the sample is not random selected."
   ]
  },
  {
   "cell_type": "markdown",
   "id": "83c0db82-87ef-483b-be21-4f227046ce83",
   "metadata": {},
   "source": [
    "Homogeneity of Variance test:<br>\n",
    "H0 : Homogeneity of Variance<br>\n",
    "H1 : Not Homogeneity of Variance"
   ]
  },
  {
   "cell_type": "code",
   "execution_count": 17,
   "id": "7bbf7e27-7eb5-440f-84ea-bf55367a33cd",
   "metadata": {},
   "outputs": [
    {
     "data": {
      "image/png": "[encoded data removed]",
      "text/plain": [
       "<Figure size 432x288 with 1 Axes>"
      ]
     },
     "metadata": {
      "needs_background": "light"
     },
     "output_type": "display_data"
    }
   ],
   "source": [
    "# Homogeneity of Variance test\n",
    "plt.plot(y_pre, SD, 'o', color = 'gray')\n",
    "plt.axhline(y=2, color = 'red', lw = 0.8)\n",
    "plt.axhline(y=0, color = 'blue')\n",
    "plt.axhline(y=-2, color = 'red', lw = 0.8)\n",
    "plt.title('Standardized Residual Plot')\n",
    "plt.xlabel('Predicted y value')\n",
    "plt.ylabel('Standardized Residual')\n",
    "plt.show()"
   ]
  },
  {
   "cell_type": "markdown",
   "id": "a18ee138-3baa-4301-ba9a-198afb7b94b1",
   "metadata": {},
   "source": [
    "From the plot above, it doesn't satisfy that the variation is constant and the mean is around 0. Thus, we reject H0. The residual doesn't satisfy the condition of homogeneity of variance."
   ]
  },
  {
   "cell_type": "markdown",
   "id": "8934b884-14df-45e9-98b6-7f850b1cb243",
   "metadata": {},
   "source": [
    "From the above KPIs we can learn that this data set is a right skewed data set, randomness exists, and we may need to do feature selection after that since the residual doesn't satisfy the condition of homogeneity of variance."
   ]
  },
  {
   "cell_type": "markdown",
   "id": "080838b7-3647-4839-b077-ad7b38aa3dae",
   "metadata": {},
   "source": [
    "After these analysis we can conclude that the quality of the data set is good enough for further research."
   ]
  },
  {
   "cell_type": "markdown",
   "id": "f453e92c-f6ab-4c86-b4da-fca207d2e6a7",
   "metadata": {},
   "source": [
    "### (b)"
   ]
  },
  {
   "cell_type": "markdown",
   "id": "8737820e-b4d2-43d3-8d60-830c39cff844",
   "metadata": {},
   "source": [
    "1. Check whether the data is collected by reliable source, is the newest data and contents collected obeys the rules of security.\n",
    "2. Check whether the column are interpretable and reasonable to predict our target and whether the data is enough (it depends on the model we are going to use).\n",
    "3. Check if there are lots of empty values or columns and if the values are consisted among columns. If to much empty values, we should consider other data. Else, do imputation to fill it.\n",
    "4. Check whether there exist some features that are important (p-value < 0.01) by doing simple regressions. We can also draw a heat map of correlation between features to understand the relation between features.\n",
    "5. Check the distribution of the data. Every observation should be independent, and we should delete duplicate  observations."
   ]
  },
  {
   "cell_type": "markdown",
   "id": "8495b825-4644-4693-887f-e3d7b6df17e7",
   "metadata": {},
   "source": [
    "### (c)"
   ]
  },
  {
   "cell_type": "markdown",
   "id": "eee0e119-6849-4bdb-9e71-bee26ab9338c",
   "metadata": {},
   "source": [
    "1. Normality test (e.g. Shapiro Test, draw plots of the distribution)\n",
    "2. Independence test (e.g. Run Test)\n",
    "3. Homogeneity of Variance test"
   ]
  },
  {
   "cell_type": "markdown",
   "id": "0bd5108b-f77f-4a51-84d1-c735321bba25",
   "metadata": {},
   "source": [
    "### 3."
   ]
  },
  {
   "cell_type": "markdown",
   "id": "ba2c8cd7-2dd7-478d-a701-83905bb4c812",
   "metadata": {},
   "source": [
    "### (a)"
   ]
  },
  {
   "cell_type": "markdown",
   "id": "3b3484f5-34a8-43ba-b869-69e840eae37e",
   "metadata": {},
   "source": [
    "As time interval and area changes, data may have different attributes or distributions.\n",
    "\n",
    "Model applicability and extendibility is to maintain a certain level of predict accuracy when using the same model no matter how the data may change. It is a trade off between generalization and specialization of the model."
   ]
  },
  {
   "cell_type": "markdown",
   "id": "7e480381-b097-4313-b160-3056e6b8a474",
   "metadata": {},
   "source": [
    "### (b)"
   ]
  },
  {
   "cell_type": "markdown",
   "id": "893947df-3934-413c-ba35-28690dc6d33f",
   "metadata": {},
   "source": [
    "Yes, because in <problem 1.> we will evaluate the importance of all features and pick the important features to do the final linear regression. This implies that when attributes or distributions the data set changes we can detect the difference when evaluating the features, and find out a new feature ranking. Also, we can decide how many features to choose from the ranking by the feature ranking. Which exactly matches the goal of model applicability and extendibility. However, we may make it better by using other non linear methods, so that we can have more applicability and extendibility when the distribution of data set becomes more complex."
   ]
  },
  {
   "cell_type": "markdown",
   "id": "b9cb7996-9d53-4758-8000-760534c55ed7",
   "metadata": {},
   "source": [
    "### 4."
   ]
  },
  {
   "cell_type": "markdown",
   "id": "b1ec7852-1ebf-45f2-ba6a-a74c83156b4a",
   "metadata": {},
   "source": [
    "### (a)"
   ]
  },
  {
   "cell_type": "markdown",
   "id": "0b49e55f-fb0a-4285-8cfd-e13206497cf4",
   "metadata": {},
   "source": [
    "Statistics imputation:<br>\n",
    "Works well with small numerical datasets. Easy and fast.<br>\n",
    "If the amount of missing data is larger than not missing data, the statistics imputation method may only encode the information of a small part of the whole data, which may not be representative.\n",
    "    \n",
    "Predictive imputation:<br>\n",
    "Can be much more accurate than statistics imputation. => Need something better than Statistics imputation.<br>\n",
    "However, it can cost more computational overhead. Also in the KNN method, outliers may have large effects if k is too small.<br>\n",
    "\n",
    "Generative imputation:<br>\n",
    "Can be the most accurate method among the three. => Have plenty of computation resource and thinks that  imputation strongly affects the preformance of the model.<br>\n",
    "However, it can cost the most computational overhead among the three methods.<br>"
   ]
  },
  {
   "cell_type": "markdown",
   "id": "cf781301-158f-4608-83e0-f69a726cbfd8",
   "metadata": {},
   "source": [
    "### (b)"
   ]
  },
  {
   "cell_type": "markdown",
   "id": "91e601f7-f24e-4787-bbcb-e1f583bbcd8b",
   "metadata": {},
   "source": [
    "Some features may follow a trivial distribution or may be easily imputed by other existing features.<br>\n",
    "If we delete the feature, we may loss some important messages encoded in that feature, which may cause overfitting or low accuracy of the prediction model."
   ]
  },
  {
   "cell_type": "markdown",
   "id": "eace03dd-ad0a-4f36-8001-2ca5628dd622",
   "metadata": {},
   "source": [
    "<h3>5."
   ]
  },
  {
   "cell_type": "code",
   "execution_count": 18,
   "id": "f116899c-9b10-4d05-8a59-8c47947c9a43",
   "metadata": {},
   "outputs": [
    {
     "data": {
      "text/html": [
       "<div>\n",
       "<style scoped>\n",
       "    .dataframe tbody tr th:only-of-type {\n",
       "        vertical-align: middle;\n",
       "    }\n",
       "\n",
       "    .dataframe tbody tr th {\n",
       "        vertical-align: top;\n",
       "    }\n",
       "\n",
       "    .dataframe thead th {\n",
       "        text-align: right;\n",
       "    }\n",
       "</style>\n",
       "<table border=\"1\" class=\"dataframe\">\n",
       "  <thead>\n",
       "    <tr style=\"text-align: right;\">\n",
       "      <th></th>\n",
       "      <th>X_Minimum</th>\n",
       "      <th>X_Maximum</th>\n",
       "      <th>Y_Minimum</th>\n",
       "      <th>Y_Maximum</th>\n",
       "      <th>Pixels_Areas</th>\n",
       "      <th>X_Perimeter</th>\n",
       "      <th>Y_Perimeter</th>\n",
       "      <th>Sum_of_Luminosity</th>\n",
       "      <th>Minimum_of_Luminosity</th>\n",
       "      <th>Maximum_of_Luminosity</th>\n",
       "      <th>...</th>\n",
       "      <th>Orientation_Index</th>\n",
       "      <th>Luminosity_Index</th>\n",
       "      <th>SigmoidOfAreas</th>\n",
       "      <th>Pastry</th>\n",
       "      <th>Z_Scratch</th>\n",
       "      <th>K_Scatch</th>\n",
       "      <th>Stains</th>\n",
       "      <th>Dirtiness</th>\n",
       "      <th>Bumps</th>\n",
       "      <th>Other_Faults</th>\n",
       "    </tr>\n",
       "  </thead>\n",
       "  <tbody>\n",
       "    <tr>\n",
       "      <th>0</th>\n",
       "      <td>42</td>\n",
       "      <td>50</td>\n",
       "      <td>270900</td>\n",
       "      <td>270944</td>\n",
       "      <td>267</td>\n",
       "      <td>17</td>\n",
       "      <td>44</td>\n",
       "      <td>24220</td>\n",
       "      <td>76</td>\n",
       "      <td>108</td>\n",
       "      <td>...</td>\n",
       "      <td>0.8182</td>\n",
       "      <td>-0.2913</td>\n",
       "      <td>0.5822</td>\n",
       "      <td>1</td>\n",
       "      <td>0</td>\n",
       "      <td>0</td>\n",
       "      <td>0</td>\n",
       "      <td>0</td>\n",
       "      <td>0</td>\n",
       "      <td>0</td>\n",
       "    </tr>\n",
       "    <tr>\n",
       "      <th>1</th>\n",
       "      <td>645</td>\n",
       "      <td>651</td>\n",
       "      <td>2538079</td>\n",
       "      <td>2538108</td>\n",
       "      <td>108</td>\n",
       "      <td>10</td>\n",
       "      <td>30</td>\n",
       "      <td>11397</td>\n",
       "      <td>84</td>\n",
       "      <td>123</td>\n",
       "      <td>...</td>\n",
       "      <td>0.7931</td>\n",
       "      <td>-0.1756</td>\n",
       "      <td>0.2984</td>\n",
       "      <td>1</td>\n",
       "      <td>0</td>\n",
       "      <td>0</td>\n",
       "      <td>0</td>\n",
       "      <td>0</td>\n",
       "      <td>0</td>\n",
       "      <td>0</td>\n",
       "    </tr>\n",
       "    <tr>\n",
       "      <th>2</th>\n",
       "      <td>829</td>\n",
       "      <td>835</td>\n",
       "      <td>1553913</td>\n",
       "      <td>1553931</td>\n",
       "      <td>71</td>\n",
       "      <td>8</td>\n",
       "      <td>19</td>\n",
       "      <td>7972</td>\n",
       "      <td>99</td>\n",
       "      <td>125</td>\n",
       "      <td>...</td>\n",
       "      <td>0.6667</td>\n",
       "      <td>-0.1228</td>\n",
       "      <td>0.2150</td>\n",
       "      <td>1</td>\n",
       "      <td>0</td>\n",
       "      <td>0</td>\n",
       "      <td>0</td>\n",
       "      <td>0</td>\n",
       "      <td>0</td>\n",
       "      <td>0</td>\n",
       "    </tr>\n",
       "    <tr>\n",
       "      <th>3</th>\n",
       "      <td>853</td>\n",
       "      <td>860</td>\n",
       "      <td>369370</td>\n",
       "      <td>369415</td>\n",
       "      <td>176</td>\n",
       "      <td>13</td>\n",
       "      <td>45</td>\n",
       "      <td>18996</td>\n",
       "      <td>99</td>\n",
       "      <td>126</td>\n",
       "      <td>...</td>\n",
       "      <td>0.8444</td>\n",
       "      <td>-0.1568</td>\n",
       "      <td>0.5212</td>\n",
       "      <td>1</td>\n",
       "      <td>0</td>\n",
       "      <td>0</td>\n",
       "      <td>0</td>\n",
       "      <td>0</td>\n",
       "      <td>0</td>\n",
       "      <td>0</td>\n",
       "    </tr>\n",
       "    <tr>\n",
       "      <th>4</th>\n",
       "      <td>1289</td>\n",
       "      <td>1306</td>\n",
       "      <td>498078</td>\n",
       "      <td>498335</td>\n",
       "      <td>2409</td>\n",
       "      <td>60</td>\n",
       "      <td>260</td>\n",
       "      <td>246930</td>\n",
       "      <td>37</td>\n",
       "      <td>126</td>\n",
       "      <td>...</td>\n",
       "      <td>0.9338</td>\n",
       "      <td>-0.1992</td>\n",
       "      <td>1.0000</td>\n",
       "      <td>1</td>\n",
       "      <td>0</td>\n",
       "      <td>0</td>\n",
       "      <td>0</td>\n",
       "      <td>0</td>\n",
       "      <td>0</td>\n",
       "      <td>0</td>\n",
       "    </tr>\n",
       "    <tr>\n",
       "      <th>...</th>\n",
       "      <td>...</td>\n",
       "      <td>...</td>\n",
       "      <td>...</td>\n",
       "      <td>...</td>\n",
       "      <td>...</td>\n",
       "      <td>...</td>\n",
       "      <td>...</td>\n",
       "      <td>...</td>\n",
       "      <td>...</td>\n",
       "      <td>...</td>\n",
       "      <td>...</td>\n",
       "      <td>...</td>\n",
       "      <td>...</td>\n",
       "      <td>...</td>\n",
       "      <td>...</td>\n",
       "      <td>...</td>\n",
       "      <td>...</td>\n",
       "      <td>...</td>\n",
       "      <td>...</td>\n",
       "      <td>...</td>\n",
       "      <td>...</td>\n",
       "    </tr>\n",
       "    <tr>\n",
       "      <th>1936</th>\n",
       "      <td>249</td>\n",
       "      <td>277</td>\n",
       "      <td>325780</td>\n",
       "      <td>325796</td>\n",
       "      <td>273</td>\n",
       "      <td>54</td>\n",
       "      <td>22</td>\n",
       "      <td>35033</td>\n",
       "      <td>119</td>\n",
       "      <td>141</td>\n",
       "      <td>...</td>\n",
       "      <td>-0.4286</td>\n",
       "      <td>0.0026</td>\n",
       "      <td>0.7254</td>\n",
       "      <td>0</td>\n",
       "      <td>0</td>\n",
       "      <td>0</td>\n",
       "      <td>0</td>\n",
       "      <td>0</td>\n",
       "      <td>0</td>\n",
       "      <td>1</td>\n",
       "    </tr>\n",
       "    <tr>\n",
       "      <th>1937</th>\n",
       "      <td>144</td>\n",
       "      <td>175</td>\n",
       "      <td>340581</td>\n",
       "      <td>340598</td>\n",
       "      <td>287</td>\n",
       "      <td>44</td>\n",
       "      <td>24</td>\n",
       "      <td>34599</td>\n",
       "      <td>112</td>\n",
       "      <td>133</td>\n",
       "      <td>...</td>\n",
       "      <td>-0.4516</td>\n",
       "      <td>-0.0582</td>\n",
       "      <td>0.8173</td>\n",
       "      <td>0</td>\n",
       "      <td>0</td>\n",
       "      <td>0</td>\n",
       "      <td>0</td>\n",
       "      <td>0</td>\n",
       "      <td>0</td>\n",
       "      <td>1</td>\n",
       "    </tr>\n",
       "    <tr>\n",
       "      <th>1938</th>\n",
       "      <td>145</td>\n",
       "      <td>174</td>\n",
       "      <td>386779</td>\n",
       "      <td>386794</td>\n",
       "      <td>292</td>\n",
       "      <td>40</td>\n",
       "      <td>22</td>\n",
       "      <td>37572</td>\n",
       "      <td>120</td>\n",
       "      <td>140</td>\n",
       "      <td>...</td>\n",
       "      <td>-0.4828</td>\n",
       "      <td>0.0052</td>\n",
       "      <td>0.7079</td>\n",
       "      <td>0</td>\n",
       "      <td>0</td>\n",
       "      <td>0</td>\n",
       "      <td>0</td>\n",
       "      <td>0</td>\n",
       "      <td>0</td>\n",
       "      <td>1</td>\n",
       "    </tr>\n",
       "    <tr>\n",
       "      <th>1939</th>\n",
       "      <td>137</td>\n",
       "      <td>170</td>\n",
       "      <td>422497</td>\n",
       "      <td>422528</td>\n",
       "      <td>419</td>\n",
       "      <td>97</td>\n",
       "      <td>47</td>\n",
       "      <td>52715</td>\n",
       "      <td>117</td>\n",
       "      <td>140</td>\n",
       "      <td>...</td>\n",
       "      <td>-0.0606</td>\n",
       "      <td>-0.0171</td>\n",
       "      <td>0.9919</td>\n",
       "      <td>0</td>\n",
       "      <td>0</td>\n",
       "      <td>0</td>\n",
       "      <td>0</td>\n",
       "      <td>0</td>\n",
       "      <td>0</td>\n",
       "      <td>1</td>\n",
       "    </tr>\n",
       "    <tr>\n",
       "      <th>1940</th>\n",
       "      <td>1261</td>\n",
       "      <td>1281</td>\n",
       "      <td>87951</td>\n",
       "      <td>87967</td>\n",
       "      <td>103</td>\n",
       "      <td>26</td>\n",
       "      <td>22</td>\n",
       "      <td>11682</td>\n",
       "      <td>101</td>\n",
       "      <td>133</td>\n",
       "      <td>...</td>\n",
       "      <td>-0.2000</td>\n",
       "      <td>-0.1139</td>\n",
       "      <td>0.5296</td>\n",
       "      <td>0</td>\n",
       "      <td>0</td>\n",
       "      <td>0</td>\n",
       "      <td>0</td>\n",
       "      <td>0</td>\n",
       "      <td>0</td>\n",
       "      <td>1</td>\n",
       "    </tr>\n",
       "  </tbody>\n",
       "</table>\n",
       "<p>1941 rows × 34 columns</p>\n",
       "</div>"
      ],
      "text/plain": [
       "      X_Minimum  X_Maximum  Y_Minimum  Y_Maximum  Pixels_Areas  X_Perimeter  \\\n",
       "0            42         50     270900     270944           267           17   \n",
       "1           645        651    2538079    2538108           108           10   \n",
       "2           829        835    1553913    1553931            71            8   \n",
       "3           853        860     369370     369415           176           13   \n",
       "4          1289       1306     498078     498335          2409           60   \n",
       "...         ...        ...        ...        ...           ...          ...   \n",
       "1936        249        277     325780     325796           273           54   \n",
       "1937        144        175     340581     340598           287           44   \n",
       "1938        145        174     386779     386794           292           40   \n",
       "1939        137        170     422497     422528           419           97   \n",
       "1940       1261       1281      87951      87967           103           26   \n",
       "\n",
       "      Y_Perimeter  Sum_of_Luminosity  Minimum_of_Luminosity  \\\n",
       "0              44              24220                     76   \n",
       "1              30              11397                     84   \n",
       "2              19               7972                     99   \n",
       "3              45              18996                     99   \n",
       "4             260             246930                     37   \n",
       "...           ...                ...                    ...   \n",
       "1936           22              35033                    119   \n",
       "1937           24              34599                    112   \n",
       "1938           22              37572                    120   \n",
       "1939           47              52715                    117   \n",
       "1940           22              11682                    101   \n",
       "\n",
       "      Maximum_of_Luminosity  ...  Orientation_Index  Luminosity_Index  \\\n",
       "0                       108  ...             0.8182           -0.2913   \n",
       "1                       123  ...             0.7931           -0.1756   \n",
       "2                       125  ...             0.6667           -0.1228   \n",
       "3                       126  ...             0.8444           -0.1568   \n",
       "4                       126  ...             0.9338           -0.1992   \n",
       "...                     ...  ...                ...               ...   \n",
       "1936                    141  ...            -0.4286            0.0026   \n",
       "1937                    133  ...            -0.4516           -0.0582   \n",
       "1938                    140  ...            -0.4828            0.0052   \n",
       "1939                    140  ...            -0.0606           -0.0171   \n",
       "1940                    133  ...            -0.2000           -0.1139   \n",
       "\n",
       "      SigmoidOfAreas  Pastry  Z_Scratch  K_Scatch  Stains  Dirtiness  Bumps  \\\n",
       "0             0.5822       1          0         0       0          0      0   \n",
       "1             0.2984       1          0         0       0          0      0   \n",
       "2             0.2150       1          0         0       0          0      0   \n",
       "3             0.5212       1          0         0       0          0      0   \n",
       "4             1.0000       1          0         0       0          0      0   \n",
       "...              ...     ...        ...       ...     ...        ...    ...   \n",
       "1936          0.7254       0          0         0       0          0      0   \n",
       "1937          0.8173       0          0         0       0          0      0   \n",
       "1938          0.7079       0          0         0       0          0      0   \n",
       "1939          0.9919       0          0         0       0          0      0   \n",
       "1940          0.5296       0          0         0       0          0      0   \n",
       "\n",
       "      Other_Faults  \n",
       "0                0  \n",
       "1                0  \n",
       "2                0  \n",
       "3                0  \n",
       "4                0  \n",
       "...            ...  \n",
       "1936             1  \n",
       "1937             1  \n",
       "1938             1  \n",
       "1939             1  \n",
       "1940             1  \n",
       "\n",
       "[1941 rows x 34 columns]"
      ]
     },
     "execution_count": 18,
     "metadata": {},
     "output_type": "execute_result"
    }
   ],
   "source": [
    "# loading the training dataset \n",
    "Steelplates_colname = pd.read_excel('MDS_Assignment2_Steelplates.xlsx', sheet_name = \"Var_Name\", header=None)\n",
    "Steelplates_colname = np.array(Steelplates_colname[0])\n",
    "\n",
    "Steelplates_df = pd.read_excel('MDS_Assignment2_Steelplates.xlsx', sheet_name = \"Faults\", names=Steelplates_colname, header=None)\n",
    "Steelplates_df "
   ]
  },
  {
   "cell_type": "code",
   "execution_count": 19,
   "id": "9a2e73eb-a78e-48ea-aa50-274b8a8e2be8",
   "metadata": {},
   "outputs": [],
   "source": [
    "# split x and y\n",
    "training_data_x = Steelplates_df.iloc[:,0:27]\n",
    "# Bumps y_train\n",
    "Bumps_y_train = Steelplates_df[\"Bumps\"]\n",
    "# K_Scratch y_train\n",
    "K_Scratch_y_train = Steelplates_df[\"K_Scatch\"]\n",
    "# K_Scratch and Bumps y_train\n",
    "# Steelplates_df[\"class\"] = Steelplates_df[\"K_Scatch\"] * 2 + Steelplates_df[\"Bumps\"] + 1"
   ]
  },
  {
   "cell_type": "markdown",
   "id": "d18910eb-c6e4-4c66-9924-59dadd16eaad",
   "metadata": {},
   "source": [
    "### (1)"
   ]
  },
  {
   "cell_type": "code",
   "execution_count": 20,
   "id": "69b3ac27-19d5-4aa9-9c9c-afe18bb0b9c6",
   "metadata": {},
   "outputs": [
    {
     "name": "stdout",
     "output_type": "stream",
     "text": [
      "Optimization terminated successfully.\n",
      "         Current function value: 0.363107\n",
      "         Iterations 13\n",
      "Optimization terminated successfully.\n",
      "         Current function value: 0.055606\n",
      "         Iterations 15\n",
      "                           Logit Regression Results                           \n",
      "==============================================================================\n",
      "Dep. Variable:                  Bumps   No. Observations:                 1941\n",
      "Model:                          Logit   Df Residuals:                     1914\n",
      "Method:                           MLE   Df Model:                           26\n",
      "Date:                Fri, 28 Oct 2022   Pseudo R-squ.:                  0.2882\n",
      "Time:                        15:31:31   Log-Likelihood:                -704.79\n",
      "converged:                       True   LL-Null:                       -990.11\n",
      "Covariance Type:            nonrobust   LLR p-value:                7.766e-104\n",
      "=========================================================================================\n",
      "                            coef    std err          z      P>|z|      [0.025      0.975]\n",
      "-----------------------------------------------------------------------------------------\n",
      "const                   -13.0134   1.16e+07  -1.12e-06      1.000   -2.27e+07    2.27e+07\n",
      "X_Minimum                 0.0441      0.050      0.879      0.379      -0.054       0.142\n",
      "X_Maximum                -0.0436      0.050     -0.870      0.384      -0.142       0.055\n",
      "Y_Minimum                 0.1252      0.023      5.343      0.000       0.079       0.171\n",
      "Y_Maximum                -0.1252      0.023     -5.343      0.000      -0.171      -0.079\n",
      "Pixels_Areas             -0.0022      0.002     -1.413      0.158      -0.005       0.001\n",
      "X_Perimeter              -0.0373      0.011     -3.287      0.001      -0.060      -0.015\n",
      "Y_Perimeter               0.0970      0.021      4.557      0.000       0.055       0.139\n",
      "Sum_of_Luminosity      1.582e-05   1.41e-05      1.122      0.262   -1.18e-05    4.34e-05\n",
      "Minimum_of_Luminosity     0.0172      0.010      1.734      0.083      -0.002       0.037\n",
      "Maximum_of_Luminosity     0.0315      0.012      2.521      0.012       0.007       0.056\n",
      "Length_of_Conveyer        0.0013      0.001      1.846      0.065   -7.93e-05       0.003\n",
      "TypeOfSteel_A300         -6.0384   1.16e+07   -5.2e-07      1.000   -2.27e+07    2.27e+07\n",
      "TypeOfSteel_A400         -6.9700   1.16e+07  -6.01e-07      1.000   -2.27e+07    2.27e+07\n",
      "Steel_Plate_Thickness    -0.0051      0.002     -3.208      0.001      -0.008      -0.002\n",
      "Edges_Index               1.1659      0.235      4.960      0.000       0.705       1.627\n",
      "Empty_Index              -3.2953      3.045     -1.082      0.279      -9.264       2.673\n",
      "Square_Index              1.1437      0.369      3.096      0.002       0.420       1.868\n",
      "Outside_X_Index          43.4036     66.951      0.648      0.517     -87.818     174.626\n",
      "Edges_X_Index            -1.8628      0.744     -2.503      0.012      -3.321      -0.404\n",
      "Edges_Y_Index             5.1532      1.001      5.146      0.000       3.190       7.116\n",
      "Outside_Global_Index      0.4553      0.331      1.375      0.169      -0.194       1.104\n",
      "LogOfAreas               -1.9522      3.785     -0.516      0.606      -9.371       5.467\n",
      "Log_X_Index               6.2231      4.181      1.488      0.137      -1.972      14.418\n",
      "Log_Y_Index               4.2860      4.020      1.066      0.286      -3.593      12.165\n",
      "Orientation_Index        -1.2111      1.149     -1.054      0.292      -3.464       1.042\n",
      "Luminosity_Index         -6.8484      2.574     -2.661      0.008     -11.894      -1.803\n",
      "SigmoidOfAreas           -0.3590      0.760     -0.472      0.637      -1.848       1.130\n",
      "=========================================================================================\n",
      "                           Logit Regression Results                           \n",
      "==============================================================================\n",
      "Dep. Variable:               K_Scatch   No. Observations:                 1941\n",
      "Model:                          Logit   Df Residuals:                     1914\n",
      "Method:                           MLE   Df Model:                           26\n",
      "Date:                Fri, 28 Oct 2022   Pseudo R-squ.:                  0.8893\n",
      "Time:                        15:31:31   Log-Likelihood:                -107.93\n",
      "converged:                       True   LL-Null:                       -975.15\n",
      "Covariance Type:            nonrobust   LLR p-value:                     0.000\n",
      "=========================================================================================\n",
      "                            coef    std err          z      P>|z|      [0.025      0.975]\n",
      "-----------------------------------------------------------------------------------------\n",
      "const                     8.0165   1.27e+07   6.32e-07      1.000   -2.49e+07    2.49e+07\n",
      "X_Minimum                -0.0646      0.061     -1.067      0.286      -0.183       0.054\n",
      "X_Maximum                 0.0632      0.061      1.044      0.296      -0.055       0.182\n",
      "Y_Minimum                -0.0162      0.013     -1.226      0.220      -0.042       0.010\n",
      "Y_Maximum                 0.0162      0.013      1.226      0.220      -0.010       0.042\n",
      "Pixels_Areas              0.0017      0.001      2.788      0.005       0.001       0.003\n",
      "X_Perimeter               0.0300      0.008      3.944      0.000       0.015       0.045\n",
      "Y_Perimeter              -0.0373      0.017     -2.236      0.025      -0.070      -0.005\n",
      "Sum_of_Luminosity     -1.682e-05   6.27e-06     -2.681      0.007   -2.91e-05   -4.52e-06\n",
      "Minimum_of_Luminosity    -0.0248      0.012     -2.040      0.041      -0.049      -0.001\n",
      "Maximum_of_Luminosity     0.0005      0.019      0.029      0.977      -0.036       0.037\n",
      "Length_of_Conveyer       -0.0018      0.004     -0.404      0.686      -0.010       0.007\n",
      "TypeOfSteel_A300          4.7093   1.27e+07   3.71e-07      1.000   -2.49e+07    2.49e+07\n",
      "TypeOfSteel_A400          3.3068   1.27e+07   2.61e-07      1.000   -2.49e+07    2.49e+07\n",
      "Steel_Plate_Thickness    -0.2575      0.097     -2.658      0.008      -0.447      -0.068\n",
      "Edges_Index              -2.6033      0.964     -2.701      0.007      -4.492      -0.714\n",
      "Empty_Index             -13.2467      4.768     -2.778      0.005     -22.591      -3.902\n",
      "Square_Index              2.9832      0.924      3.229      0.001       1.172       4.794\n",
      "Outside_X_Index         -95.5002     83.009     -1.150      0.250    -258.194      67.194\n",
      "Edges_X_Index             7.3119      2.017      3.625      0.000       3.358      11.266\n",
      "Edges_Y_Index            -5.4754      2.564     -2.136      0.033     -10.500      -0.451\n",
      "Outside_Global_Index      2.8886      0.924      3.126      0.002       1.077       4.700\n",
      "LogOfAreas               -2.9010      4.454     -0.651      0.515     -11.631       5.829\n",
      "Log_X_Index              -8.3077      5.612     -1.480      0.139     -19.307       2.692\n",
      "Log_Y_Index              16.4139      4.719      3.478      0.001       7.164      25.664\n",
      "Orientation_Index       -10.5780      2.156     -4.906      0.000     -14.804      -6.352\n",
      "Luminosity_Index         15.1091      3.379      4.472      0.000       8.486      21.732\n",
      "SigmoidOfAreas            3.5560      1.547      2.299      0.022       0.524       6.588\n",
      "=========================================================================================\n",
      "\n",
      "Possibly complete quasi-separation: A fraction 0.52 of observations can be\n",
      "perfectly predicted. This might indicate that there is complete\n",
      "quasi-separation. In this case some parameters will not be identified.\n"
     ]
    }
   ],
   "source": [
    "# two Logit Regression respectively\n",
    "training_data_x = sm.add_constant(training_data_x)\n",
    "\n",
    "log_reg_Bumps = sm.Logit(Bumps_y_train, training_data_x).fit()\n",
    "log_reg_K_Scratch = sm.Logit(K_Scratch_y_train, training_data_x).fit()\n",
    "print(log_reg_Bumps.summary())\n",
    "print(log_reg_K_Scratch.summary())"
   ]
  },
  {
   "cell_type": "markdown",
   "id": "56ebad53-d847-4ef4-b847-66b3c89eccd5",
   "metadata": {},
   "source": [
    "### (2)"
   ]
  },
  {
   "cell_type": "code",
   "execution_count": 21,
   "id": "df63b4bd-8501-4d3c-b471-be931cf93e0a",
   "metadata": {},
   "outputs": [
    {
     "data": {
      "text/html": [
       "<div>\n",
       "<style scoped>\n",
       "    .dataframe tbody tr th:only-of-type {\n",
       "        vertical-align: middle;\n",
       "    }\n",
       "\n",
       "    .dataframe tbody tr th {\n",
       "        vertical-align: top;\n",
       "    }\n",
       "\n",
       "    .dataframe thead th {\n",
       "        text-align: right;\n",
       "    }\n",
       "</style>\n",
       "<table border=\"1\" class=\"dataframe\">\n",
       "  <thead>\n",
       "    <tr style=\"text-align: right;\">\n",
       "      <th></th>\n",
       "      <th>tvalues</th>\n",
       "      <th>pvalues</th>\n",
       "    </tr>\n",
       "  </thead>\n",
       "  <tbody>\n",
       "    <tr>\n",
       "      <th>Y_Maximum</th>\n",
       "      <td>-5.342929</td>\n",
       "      <td>9.145636e-08</td>\n",
       "    </tr>\n",
       "    <tr>\n",
       "      <th>X_Perimeter</th>\n",
       "      <td>-3.286806</td>\n",
       "      <td>1.013308e-03</td>\n",
       "    </tr>\n",
       "    <tr>\n",
       "      <th>Steel_Plate_Thickness</th>\n",
       "      <td>-3.208320</td>\n",
       "      <td>1.335127e-03</td>\n",
       "    </tr>\n",
       "    <tr>\n",
       "      <th>Luminosity_Index</th>\n",
       "      <td>-2.660547</td>\n",
       "      <td>7.801373e-03</td>\n",
       "    </tr>\n",
       "    <tr>\n",
       "      <th>Square_Index</th>\n",
       "      <td>3.096487</td>\n",
       "      <td>1.958286e-03</td>\n",
       "    </tr>\n",
       "    <tr>\n",
       "      <th>Y_Perimeter</th>\n",
       "      <td>4.556879</td>\n",
       "      <td>5.191922e-06</td>\n",
       "    </tr>\n",
       "    <tr>\n",
       "      <th>Edges_Index</th>\n",
       "      <td>4.959895</td>\n",
       "      <td>7.053116e-07</td>\n",
       "    </tr>\n",
       "    <tr>\n",
       "      <th>Edges_Y_Index</th>\n",
       "      <td>5.145659</td>\n",
       "      <td>2.665835e-07</td>\n",
       "    </tr>\n",
       "    <tr>\n",
       "      <th>Y_Minimum</th>\n",
       "      <td>5.342935</td>\n",
       "      <td>9.145368e-08</td>\n",
       "    </tr>\n",
       "  </tbody>\n",
       "</table>\n",
       "</div>"
      ],
      "text/plain": [
       "                        tvalues       pvalues\n",
       "Y_Maximum             -5.342929  9.145636e-08\n",
       "X_Perimeter           -3.286806  1.013308e-03\n",
       "Steel_Plate_Thickness -3.208320  1.335127e-03\n",
       "Luminosity_Index      -2.660547  7.801373e-03\n",
       "Square_Index           3.096487  1.958286e-03\n",
       "Y_Perimeter            4.556879  5.191922e-06\n",
       "Edges_Index            4.959895  7.053116e-07\n",
       "Edges_Y_Index          5.145659  2.665835e-07\n",
       "Y_Minimum              5.342935  9.145368e-08"
      ]
     },
     "metadata": {},
     "output_type": "display_data"
    }
   ],
   "source": [
    "# log_reg_Bumps important features\n",
    "result = log_reg_Bumps\n",
    "\n",
    "# Rank Variables\n",
    "ranked = pd.concat([result.tvalues, result.pvalues], keys = [\"tvalues\", \"pvalues\"], axis=1)\n",
    "ranked.sort_values(by=['tvalues'], inplace = True)\n",
    "\n",
    "# Display variables with p-values < 0.01\n",
    "ranked = ranked[ranked.pvalues < 0.01]\n",
    "display(ranked)"
   ]
  },
  {
   "cell_type": "code",
   "execution_count": 22,
   "id": "71bd2759-eb95-4264-b3d9-a40b37c4f37b",
   "metadata": {},
   "outputs": [
    {
     "data": {
      "text/html": [
       "<div>\n",
       "<style scoped>\n",
       "    .dataframe tbody tr th:only-of-type {\n",
       "        vertical-align: middle;\n",
       "    }\n",
       "\n",
       "    .dataframe tbody tr th {\n",
       "        vertical-align: top;\n",
       "    }\n",
       "\n",
       "    .dataframe thead th {\n",
       "        text-align: right;\n",
       "    }\n",
       "</style>\n",
       "<table border=\"1\" class=\"dataframe\">\n",
       "  <thead>\n",
       "    <tr style=\"text-align: right;\">\n",
       "      <th></th>\n",
       "      <th>tvalues</th>\n",
       "      <th>pvalues</th>\n",
       "    </tr>\n",
       "  </thead>\n",
       "  <tbody>\n",
       "    <tr>\n",
       "      <th>Orientation_Index</th>\n",
       "      <td>-4.906238</td>\n",
       "      <td>9.283979e-07</td>\n",
       "    </tr>\n",
       "    <tr>\n",
       "      <th>Empty_Index</th>\n",
       "      <td>-2.778370</td>\n",
       "      <td>5.463243e-03</td>\n",
       "    </tr>\n",
       "    <tr>\n",
       "      <th>Edges_Index</th>\n",
       "      <td>-2.701153</td>\n",
       "      <td>6.909965e-03</td>\n",
       "    </tr>\n",
       "    <tr>\n",
       "      <th>Sum_of_Luminosity</th>\n",
       "      <td>-2.681213</td>\n",
       "      <td>7.335584e-03</td>\n",
       "    </tr>\n",
       "    <tr>\n",
       "      <th>Steel_Plate_Thickness</th>\n",
       "      <td>-2.657835</td>\n",
       "      <td>7.864439e-03</td>\n",
       "    </tr>\n",
       "    <tr>\n",
       "      <th>Pixels_Areas</th>\n",
       "      <td>2.787854</td>\n",
       "      <td>5.305842e-03</td>\n",
       "    </tr>\n",
       "    <tr>\n",
       "      <th>Outside_Global_Index</th>\n",
       "      <td>3.125883</td>\n",
       "      <td>1.772722e-03</td>\n",
       "    </tr>\n",
       "    <tr>\n",
       "      <th>Square_Index</th>\n",
       "      <td>3.229016</td>\n",
       "      <td>1.242168e-03</td>\n",
       "    </tr>\n",
       "    <tr>\n",
       "      <th>Log_Y_Index</th>\n",
       "      <td>3.478002</td>\n",
       "      <td>5.051652e-04</td>\n",
       "    </tr>\n",
       "    <tr>\n",
       "      <th>Edges_X_Index</th>\n",
       "      <td>3.624556</td>\n",
       "      <td>2.894585e-04</td>\n",
       "    </tr>\n",
       "    <tr>\n",
       "      <th>X_Perimeter</th>\n",
       "      <td>3.943795</td>\n",
       "      <td>8.020217e-05</td>\n",
       "    </tr>\n",
       "    <tr>\n",
       "      <th>Luminosity_Index</th>\n",
       "      <td>4.471534</td>\n",
       "      <td>7.766053e-06</td>\n",
       "    </tr>\n",
       "  </tbody>\n",
       "</table>\n",
       "</div>"
      ],
      "text/plain": [
       "                        tvalues       pvalues\n",
       "Orientation_Index     -4.906238  9.283979e-07\n",
       "Empty_Index           -2.778370  5.463243e-03\n",
       "Edges_Index           -2.701153  6.909965e-03\n",
       "Sum_of_Luminosity     -2.681213  7.335584e-03\n",
       "Steel_Plate_Thickness -2.657835  7.864439e-03\n",
       "Pixels_Areas           2.787854  5.305842e-03\n",
       "Outside_Global_Index   3.125883  1.772722e-03\n",
       "Square_Index           3.229016  1.242168e-03\n",
       "Log_Y_Index            3.478002  5.051652e-04\n",
       "Edges_X_Index          3.624556  2.894585e-04\n",
       "X_Perimeter            3.943795  8.020217e-05\n",
       "Luminosity_Index       4.471534  7.766053e-06"
      ]
     },
     "metadata": {},
     "output_type": "display_data"
    }
   ],
   "source": [
    "# log_reg_K_Scratch important features\n",
    "result = log_reg_K_Scratch\n",
    "\n",
    "# Rank Variables\n",
    "ranked = pd.concat([result.tvalues, result.pvalues], keys = [\"tvalues\", \"pvalues\"], axis=1)\n",
    "ranked.sort_values(by=['tvalues'], inplace = True)\n",
    "\n",
    "# Display variables with p-values < 0.01\n",
    "ranked = ranked[ranked.pvalues < 0.01]\n",
    "display(ranked)"
   ]
  },
  {
   "cell_type": "markdown",
   "id": "d78cc022-99f1-4c5d-b04e-a4ebec125af5",
   "metadata": {},
   "source": [
    "### (3)"
   ]
  },
  {
   "cell_type": "code",
   "execution_count": 23,
   "id": "1369103a-77db-438d-b607-0baa6aeaccb7",
   "metadata": {},
   "outputs": [
    {
     "name": "stdout",
     "output_type": "stream",
     "text": [
      "Mean Accuracy of Bumps Linear Discriminant Analysis: 0.7872230808861411\n",
      "Mean Accuracy of K_Scratch Linear Discriminant Analysis: 0.9397217928902627\n"
     ]
    }
   ],
   "source": [
    "from sklearn.linear_model import LogisticRegression\n",
    "\n",
    "# Bumps\n",
    "X = training_data_x\n",
    "y = Bumps_y_train\n",
    "clf = LogisticRegression()\n",
    "clf.fit(X, y)\n",
    "print(\"Mean Accuracy of Bumps Linear Discriminant Analysis:\", clf.score(X, y))\n",
    "\n",
    "# K_Scratch\n",
    "X = training_data_x\n",
    "y = K_Scratch_y_train\n",
    "clf = LogisticRegression()\n",
    "clf.fit(X, y)\n",
    "print(\"Mean Accuracy of K_Scratch Linear Discriminant Analysis:\", clf.score(X, y))"
   ]
  },
  {
   "cell_type": "markdown",
   "id": "9c94dd62-e7de-4bc5-9e19-72722049889c",
   "metadata": {},
   "source": [
    "We prefer two seperate models instead of one. We found that the two target have distinct important features, thus, they are nearly independent. Two independent targets shouldn't be fit in the same model, this may explian why fitting two models are better than fitting one instead. However, the r-square of \"log_reg_Bumps\" is 0.2882 and \"log_reg_K_Scratch\" is 0.8893, which implies that logistic regression can classify 88% of \"K_Scratch\" correctly, while logistic regression can only classify 28% of \"Bumps\" correctly. The reason behind this could be the target label has no linear correlation with the features, which means it may not be linearly seperable."
   ]
  },
  {
   "cell_type": "markdown",
   "id": "1be761f7-a077-402a-b5f6-0a50921f79ab",
   "metadata": {},
   "source": [
    "### (4)"
   ]
  },
  {
   "cell_type": "code",
   "execution_count": 24,
   "id": "6e3e7ea2-faea-48c1-b0ca-0b215ba735d2",
   "metadata": {},
   "outputs": [
    {
     "name": "stdout",
     "output_type": "stream",
     "text": [
      "Mean Accuracy of Bumps Linear Discriminant Analysis: 0.8341061308603812\n",
      "Mean Accuracy of K_Scratch Linear Discriminant Analysis: 0.9582689335394127\n"
     ]
    }
   ],
   "source": [
    "from sklearn.discriminant_analysis import LinearDiscriminantAnalysis\n",
    "\n",
    "# Bumps\n",
    "X = training_data_x\n",
    "y = Bumps_y_train\n",
    "clf = LinearDiscriminantAnalysis()\n",
    "clf.fit(X, y)\n",
    "print(\"Mean Accuracy of Bumps Linear Discriminant Analysis:\", clf.score(X, y))\n",
    "\n",
    "# K_Scratch\n",
    "X = training_data_x\n",
    "y = K_Scratch_y_train\n",
    "clf = LinearDiscriminantAnalysis()\n",
    "clf.fit(X, y)\n",
    "print(\"Mean Accuracy of K_Scratch Linear Discriminant Analysis:\", clf.score(X, y))"
   ]
  },
  {
   "cell_type": "markdown",
   "id": "f12aac59-3c47-40d4-ba93-5eebc99a0949",
   "metadata": {},
   "source": [
    "It perfroms quite good on the K_Scratch while performs not quite good on Bumps, the possible reason of it is the target is not linearly seperable or the data is not Gaussian distribution."
   ]
  },
  {
   "cell_type": "markdown",
   "id": "3e6c0e2d-370f-45a7-bdd9-2296342f26e2",
   "metadata": {},
   "source": [
    "### (5)"
   ]
  },
  {
   "cell_type": "code",
   "execution_count": 25,
   "id": "b486775a-fb28-4c52-bf59-48ca9ad694ca",
   "metadata": {},
   "outputs": [
    {
     "name": "stdout",
     "output_type": "stream",
     "text": [
      "Mean Accuracy of Bumps Quadratic Discriminant Analysis: 0.7408552292632664\n",
      "Mean Accuracy of K_Scratch Quadratic Discriminant Analysis: 0.9809376609994848\n"
     ]
    }
   ],
   "source": [
    "from sklearn.discriminant_analysis import QuadraticDiscriminantAnalysis\n",
    "\n",
    "# Bumps\n",
    "X = training_data_x\n",
    "y = Bumps_y_train\n",
    "clf = QuadraticDiscriminantAnalysis()\n",
    "clf.fit(X, y)\n",
    "print(\"Mean Accuracy of Bumps Quadratic Discriminant Analysis:\", clf.score(X, y))\n",
    "\n",
    "# K_Scratch\n",
    "X = training_data_x\n",
    "y = K_Scratch_y_train\n",
    "clf = QuadraticDiscriminantAnalysis()\n",
    "clf.fit(X, y)\n",
    "print(\"Mean Accuracy of K_Scratch Quadratic Discriminant Analysis:\", clf.score(X, y))"
   ]
  },
  {
   "cell_type": "markdown",
   "id": "38cd908d-bd65-451b-8a9f-fb45803a1450",
   "metadata": {},
   "source": [
    "It performs quite good on the K_Scratch while performs not quite good on Bumps, the possible reason of it is the target is not linearly seperable."
   ]
  },
  {
   "cell_type": "code",
   "execution_count": null,
   "id": "0bc30adb-19ba-407a-8b0b-810dde041f6d",
   "metadata": {},
   "outputs": [],
   "source": []
  }
 ],
 "metadata": {
  "kernelspec": {
   "display_name": "Python 3 (ipykernel)",
   "language": "python",
   "name": "python3"
  },
  "language_info": {
   "codemirror_mode": {
    "name": "ipython",
    "version": 3
   },
   "file_extension": ".py",
   "mimetype": "text/x-python",
   "name": "python",
   "nbconvert_exporter": "python",
   "pygments_lexer": "ipython3",
   "version": "3.10.5"
  }
 },
 "nbformat": 4,
 "nbformat_minor": 5
}
